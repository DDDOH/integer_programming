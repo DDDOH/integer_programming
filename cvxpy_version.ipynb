{
 "cells": [
  {
   "cell_type": "code",
   "execution_count": 49,
   "metadata": {},
   "outputs": [],
   "source": [
    "import pandas as pd\n",
    "import numpy as np\n",
    "import math\n",
    "import mosek\n",
    "import cvxpy as cp\n",
    "import matplotlib.pyplot as plt\n",
    "import time\n",
    "import sys\n",
    "\n",
    "names = locals()"
   ]
  },
  {
   "cell_type": "code",
   "execution_count": 50,
   "metadata": {},
   "outputs": [],
   "source": [
    "#parameter\n",
    "K=int(sys.argv[1])\n",
    "M=int(sys.argv[2])\n",
    "\n",
    "\n",
    "\n",
    "n_anchor = int(sys.argv[3])\n",
    "n_sensor = int(sys.argv[4])\n",
    "\n",
    "\n",
    "print('K: '+str(K))\n",
    "print('M: '+str(M))\n",
    "print('n_anchor: '+str(n_anchor))\n",
    "print('n_sensor: '+str(n_sensor))"
   ]
  },
  {
   "cell_type": "code",
   "execution_count": 64,
   "metadata": {},
   "outputs": [],
   "source": [
    "\n",
    "anchors = pd.read_excel('a0.xls', usecols = range(26), header=None, nrows=n_anchor) \n",
    "sensors = pd.read_excel('y0.xls', usecols = range(26), header=None, nrows=n_sensor)\n",
    "dist = pd.read_excel('dist0.xls', usecols = range(n_sensor), header=None, nrows=n_anchor)\n",
    "sensor = sensors.values\n",
    "anchor = anchors.values\n",
    "distance = dist.values"
   ]
  },
  {
   "cell_type": "code",
   "execution_count": 65,
   "metadata": {},
   "outputs": [],
   "source": [
    "J = len(sensor[:,1])\n",
    "I = len(anchor[:,1])"
   ]
  },
  {
   "cell_type": "markdown",
   "metadata": {},
   "source": [
    "add variable $\\hat{y_{j}}$"
   ]
  },
  {
   "cell_type": "code",
   "execution_count": 66,
   "metadata": {},
   "outputs": [],
   "source": [
    "for j in range(J):\n",
    "    exec('hat_y_{} = cp.Variable(2)'.format(j))\n",
    "    "
   ]
  },
  {
   "cell_type": "markdown",
   "metadata": {},
   "source": [
    "add variable $\\lambda_{ij}$"
   ]
  },
  {
   "cell_type": "code",
   "execution_count": 67,
   "metadata": {},
   "outputs": [],
   "source": [
    "for i in range(I):\n",
    "    for j in range(J):\n",
    "        exec('lam_{}_{} = cp.Variable(2)'.format(i, j))\n",
    "        \n",
    "# add variable v\n",
    "v = cp.Variable((I,J))"
   ]
  },
  {
   "cell_type": "code",
   "execution_count": 68,
   "metadata": {},
   "outputs": [],
   "source": [
    "x = cp.Variable(I, boolean=True)\n",
    "mu = cp.Variable((I,J))\n",
    "T = cp.Variable((I,J))"
   ]
  },
  {
   "cell_type": "code",
   "execution_count": 69,
   "metadata": {},
   "outputs": [],
   "source": [
    "constraints = []\n",
    "\n",
    "constraints.append(cp.sum(x) == K)\n",
    "\n",
    "for i in range(I):\n",
    "    for j in range(J):\n",
    "        constraints.append(cp.norm(names.get('lam_{}_{}'.format(i,j))) <= mu[i][j])\n",
    "        \n",
    "constraints.append(v >= 0)\n",
    "\n",
    "for i in range(I):\n",
    "    for j in range(J):\n",
    "        constraints.append(1 - distance[i][j]*mu[i][j] - v[i][j] == 0)\n",
    "\n",
    "for j in range(J):\n",
    "    sum_i_lam_ij = 0\n",
    "    for i in range(I):\n",
    "        sum_i_lam_ij += names.get('lam_{}_{}'.format(i,j))\n",
    "    constraints.append(sum_i_lam_ij == 0)\n",
    "    \n",
    "\n",
    "for i in range(I):\n",
    "    for j in range(J):\n",
    "        constraints.append(cp.norm(anchor[i,:] - names.get('hat_y_{}'.format(j))) <=\\\n",
    "            distance[i][j]*(1 + T[i][j]) + M*(1-x[i]))\n",
    "\n",
    "\n",
    "rhs = 0\n",
    "for i in range(I):\n",
    "    for j in range(J):\n",
    "        rhs -= anchor[i,:]*names.get('lam_{}_{}'.format(i,j)) + distance[i][j]*mu[i][j]\n",
    "constraints.append(cp.sum(T) == rhs)\n",
    "        \n",
    "for i in range(I):\n",
    "    for j in range(J):\n",
    "        constraints.append(mu[i][j] <= 100000*x[i])\n",
    "        \n",
    "constraints.append(T >= 0)\n",
    "        \n",
    "        \n",
    "obj_exp = 0\n",
    "for j in range(J):\n",
    "    obj_exp += cp.norm(names.get('hat_y_' + str(j)) - sensor[j,:])\n",
    "    \n",
    "\n"
   ]
  },
  {
   "cell_type": "code",
   "execution_count": 71,
   "metadata": {},
   "outputs": [
    {
     "output_type": "stream",
     "name": "stdout",
     "text": "\n\nProblem\n  Name                   :                 \n  Objective sense        : min             \n  Type                   : CONIC (conic optimization problem)\n  Constraints            : 2452            \n  Cones                  : 410             \n  Scalar variables       : 2680            \n  Matrix variables       : 0               \n  Integer variables      : 20              \n\nOptimizer started.\nMixed integer optimizer started.\nThreads used: 4\nPresolve started.\nPresolve terminated. Time = 0.07\nPresolved problem: 1650 variables, 1022 constraints, 3420 non-zeros\nPresolved problem: 0 general integer, 20 binary, 1630 continuous\nClique table size: 0\nBRANCHES RELAXS   ACT_NDS  DEPTH    BEST_INT_OBJ         BEST_RELAX_OBJ       REL_GAP(%)  TIME  \n0        1        1        0        NA                   4.8136228712e-11     NA          0.4   \n0        1        1        0        4.4650250918e-01     4.8136228712e-11     100.00      1.2   \nCut generation started.\n0        1        1        0        4.4650250918e-01     4.5599492681e-11     100.00      2.5   \nCut generation terminated. Time = 0.00\n8        12       5        4        4.4650250918e-01     3.5199124434e-08     100.00      3.1   \n20       24       5        10       4.4650250918e-01     3.5199124434e-08     100.00      3.9   \n30       34       5        15       4.4641407047e-01     5.1995268377e-08     100.00      4.9   \n36       40       5        18       4.4467712104e-01     5.1995268377e-08     100.00      5.4   \n38       42       3        19       4.3987557595e-01     5.1995268377e-08     100.00      5.6   \n50       54       5        3        4.3987557595e-01     5.9309877525e-08     100.00      6.8   \n62       66       11       11       4.3987557595e-01     5.9309877525e-08     100.00      7.4   \n77       81       16       16       4.3987557595e-01     5.9309877525e-08     100.00      8.3   \n89       93       16       19       4.3987557595e-01     5.9309877525e-08     100.00      9.0   \n102      106      11       15       4.3987557595e-01     5.9309877525e-08     100.00      9.9   \n110      114      7        4        4.3121987136e-01     5.9309877525e-08     100.00      10.4  \n124      128      13       8        4.3121987136e-01     5.9309877525e-08     100.00      11.1  \n151      155      28       13       4.3121987136e-01     5.9309877525e-08     100.00      12.4  \n179      183      30       10       4.1221644144e-01     5.9309877525e-08     100.00      13.8  \n207      211      36       15       4.1221644144e-01     1.4317760532e-07     100.00      15.4  \n243      247      38       18       4.1221644144e-01     1.4317760532e-07     100.00      17.2  \n279      283      30       15       4.1221644144e-01     1.4317760532e-07     100.00      19.7  \n307      311      32       16       4.1221644144e-01     1.4317760532e-07     100.00      21.3  \n337      341      16       8        4.1221644144e-01     1.4317760532e-07     100.00      23.2  \n350      354      9        10       4.1221644144e-01     1.4317760532e-07     100.00      24.5  \n362      366      3        10       4.1221644144e-01     2.2359229308e-07     100.00      25.8  \n374      378      3        16       4.1221644144e-01     1.7517199119e-01     57.50       27.6  \nAn optimal solution satisfying the relative gap tolerance of 1.00e-02(%) has been located.\nThe relative gap is 0.00e+00(%).\nAn optimal solution satisfying the absolute gap tolerance of 0.00e+00 has been located.\nThe absolute gap is 0.00e+00.\n\nObjective of best integer solution : 4.122164414397e-01      \nBest objective bound               : 4.122164414397e-01      \nConstruct solution objective       : Not employed\nUser objective cut value           : Not employed\nNumber of cuts generated           : 0\nNumber of branches                 : 379\nNumber of relaxations solved       : 383\nNumber of interior point iterations: 15886\nNumber of simplex iterations       : 0\nTime spend presolving the root     : 0.07\nTime spend optimizing the root     : 0.19\nMixed integer optimizer terminated. Time: 28.44\n\nOptimizer terminated. Time: 28.61   \n\n\nInteger solution solution summary\n  Problem status  : PRIMAL_FEASIBLE\n  Solution status : INTEGER_OPTIMAL\n  Primal.  obj: 4.1221644144e-01    nrm: 1e+05    Viol.  con: 1e-06    var: 0e+00    cones: 0e+00    itg: 0e+00  \n"
    }
   ],
   "source": [
    "t_start = round(time.time())\n",
    "obj = cp.Minimize(obj_exp)\n",
    "prob = cp.Problem(obj, constraints)\n",
    "prob.solve(solver=cp.MOSEK, verbose=True)\n",
    "t_end = round(time.time())"
   ]
  },
  {
   "cell_type": "code",
   "execution_count": 167,
   "metadata": {},
   "outputs": [],
   "source": [
    "violation = max([np.max(x.violation()) for x in constraints])"
   ]
  },
  {
   "cell_type": "code",
   "execution_count": 168,
   "metadata": {},
   "outputs": [
    {
     "output_type": "execute_result",
     "data": {
      "text/plain": "5.169400834201211e-07"
     },
     "metadata": {},
     "execution_count": 168
    }
   ],
   "source": [
    "violation"
   ]
  },
  {
   "cell_type": "code",
   "execution_count": 169,
   "metadata": {},
   "outputs": [],
   "source": [
    "np.savetxt(X=x.value, fname='result/t{} x result_K{} M{} n_anchor{} n_sensor{} duration{} violation{}.txt'.format(t_start, K, M, n_anchor, n_sensor, t_end - t_start, violation))\n",
    "\n",
    "hat_y_value = np.zeros((J,2))\n",
    "for j in range(J):\n",
    "    hat_y_value[j,:] = names.get('hat_y_{}'.format(j)).value\n",
    "\n",
    "np.savetxt(X=hat_y_value, fname='result/t{} hat_y result_K{} M{} n_anchor{} n_sensor{} duration{} violation{}.txt'.format(t_start, K, M, n_anchor, n_sensor, t_end - t_start, violation))"
   ]
  },
  {
   "cell_type": "code",
   "execution_count": 80,
   "metadata": {},
   "outputs": [],
   "source": [
    "\n",
    "plt.figure(figsize=(10,10))\n",
    "plt.scatter(x=anchor[:,0], y=anchor[:,1])\n",
    "plt.scatter(x=sensor[:,0], y=sensor[:,1],c='k',s=150)\n",
    "\n",
    "for i in range(I):\n",
    "    for j in range(J):\n",
    "        plt.scatter(x=names.get('hat_y_{}'.format(j)).value[0],\n",
    "                    y=names.get('hat_y_{}'.format(j)).value[1],c='r')\n",
    "plt.savefig('result/t{} figure result_K{} M{} n_anchor{} n_sensor{} duration{} violation{}.pdf'.format(t_start, K, M, n_anchor, n_sensor, t_end - t_start, violation))"
   ]
  },
  {
   "cell_type": "code",
   "execution_count": 152,
   "metadata": {},
   "outputs": [],
   "source": [
    "# log = pd.DataFrame(columns=['Description','difference'])\n",
    "# log.loc[len(log)+1] = ['np.sum(x.value) == K',np.sum(x.value) - K]\n",
    "\n",
    "# for i in range(I):\n",
    "#     for j in range(J):\n",
    "#         log.loc[len(log)+1] = ['lam_{}_{} - mu_{}_{} <= 0'.format(i,j,i,j), np.linalg.norm(names.get('lam_{}_{}'.format(i,j)).value) - mu.value[i][j]]\n",
    "\n",
    "#         log.loc[len(log)+1] = ['(v.value >= 0).all', np.min(v.value)]\n",
    "# for i in range(I):\n",
    "#     for j in range(J):\n",
    "#         assert abs(1 - distance[i][j]*mu.value[i][j] - v.value[i][j]) < 10e-6\n",
    "#         log.loc[len(log)+1] = ['abs(1 - distance_{}_{}*mu_{}_{} - v.value_{}_{})'.format(i,j,i,j,i,j), abs(1 - distance[i][j]*mu.value[i][j] - v.value[i][j])]\n",
    "\n",
    "# for j in range(J):\n",
    "#     sum_i_lam_ij_value = 0\n",
    "#     for i in range(I):\n",
    "#         sum_i_lam_ij_value += names.get('lam_{}_{}'.format(i,j)).value\n",
    "#     log.loc (sum_i_lam_ij_value == 0).all"
   ]
  },
  {
   "cell_type": "code",
   "execution_count": 166,
   "metadata": {},
   "outputs": [
    {
     "output_type": "stream",
     "name": "stdout",
     "text": "max constraint violation:5.169400834201211e-07\n"
    }
   ],
   "source": [
    "print('max constraint violation: '+str(max([np.max(x.violation()) for x in constraints])))"
   ]
  },
  {
   "cell_type": "code",
   "execution_count": null,
   "metadata": {},
   "outputs": [],
   "source": [
    "# assert np.sum(x.value) == K\n",
    "\n",
    "# for i in range(I):\n",
    "#     for j in range(J):\n",
    "#         assert np.linalg.norm(names.get('lam_{}_{}'.format(i,j)).value) - mu.value[i][j] <= 1e-6\n",
    "        \n",
    "        \n",
    "# assert (v.value >= 0).all\n",
    "\n",
    "# for i in range(I):\n",
    "#     for j in range(J):\n",
    "#         assert abs(1 - distance[i][j]*mu.value[i][j] - v.value[i][j]) < 10e-6\n",
    "        \n",
    "# for j in range(J):\n",
    "#     sum_i_lam_ij_value = 0\n",
    "#     for i in range(I):\n",
    "#         sum_i_lam_ij_value += names.get('lam_{}_{}'.format(i,j)).value\n",
    "#     assert (sum_i_lam_ij_value == 0).all\n",
    "    \n",
    "# for i in range(I):\n",
    "#     for j in range(J):\n",
    "#         assert np.linalg.norm(anchor[i,:] - names.get('hat_y_{}'.format(j)).value) <=\\\n",
    "#             distance[i][j]*(1+T.value[i][j]) + M*(1-x.value[i]) + 1e-6\n",
    "\n",
    "        \n",
    "# for i in range(I):\n",
    "#     for j in range(J):\n",
    "#         assert mu.value[i][j] <= 100000*x.value[i] + 1e-7\n",
    "        \n",
    "\n",
    "# rhs_value = 0\n",
    "# for i in range(I):\n",
    "#     for j in range(J):\n",
    "#         rhs_value -= anchor[i,:].dot(names.get('lam_{}_{}'.format(i,j)).value) + distance[i][j]*mu.value[i][j]\n",
    "\n",
    "# assert abs(np.sum(T.value) - rhs_value) < 1e-6\n",
    "        "
   ]
  }
 ],
 "metadata": {
  "kernelspec": {
   "display_name": "Python 3",
   "language": "python",
   "name": "python3"
  },
  "language_info": {
   "codemirror_mode": {
    "name": "ipython",
    "version": 3
   },
   "file_extension": ".py",
   "mimetype": "text/x-python",
   "name": "python",
   "nbconvert_exporter": "python",
   "pygments_lexer": "ipython3",
   "version": "3.7.7-final"
  }
 },
 "nbformat": 4,
 "nbformat_minor": 4
}