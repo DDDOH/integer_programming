{
 "cells": [
  {
   "cell_type": "code",
   "execution_count": 2,
   "metadata": {},
   "outputs": [],
   "source": [
    "import pandas as pd\n",
    "import numpy as np\n",
    "import math\n",
    "import mosek\n",
    "import cvxpy as cp\n",
    "import matplotlib.pyplot as plt\n",
    "import time\n",
    "import sys\n",
    "\n",
    "names = locals()"
   ]
  },
  {
   "cell_type": "code",
   "execution_count": 3,
   "metadata": {},
   "outputs": [
    {
     "output_type": "error",
     "ename": "ValueError",
     "evalue": "invalid literal for int() with base 10: '-f'",
     "traceback": [
      "\u001b[0;31m---------------------------------------------------------------------------\u001b[0m",
      "\u001b[0;31mValueError\u001b[0m                                Traceback (most recent call last)",
      "\u001b[0;32m<ipython-input-3-a5b9b1edb590>\u001b[0m in \u001b[0;36m<module>\u001b[0;34m\u001b[0m\n\u001b[1;32m      3\u001b[0m \u001b[0;34m\u001b[0m\u001b[0m\n\u001b[1;32m      4\u001b[0m \u001b[0;34m\u001b[0m\u001b[0m\n\u001b[0;32m----> 5\u001b[0;31m \u001b[0mK\u001b[0m\u001b[0;34m=\u001b[0m\u001b[0mint\u001b[0m\u001b[0;34m(\u001b[0m\u001b[0msys\u001b[0m\u001b[0;34m.\u001b[0m\u001b[0margv\u001b[0m\u001b[0;34m[\u001b[0m\u001b[0;36m1\u001b[0m\u001b[0;34m]\u001b[0m\u001b[0;34m)\u001b[0m\u001b[0;34m\u001b[0m\u001b[0;34m\u001b[0m\u001b[0m\n\u001b[0m\u001b[1;32m      6\u001b[0m \u001b[0mM\u001b[0m\u001b[0;34m=\u001b[0m\u001b[0mint\u001b[0m\u001b[0;34m(\u001b[0m\u001b[0msys\u001b[0m\u001b[0;34m.\u001b[0m\u001b[0margv\u001b[0m\u001b[0;34m[\u001b[0m\u001b[0;36m2\u001b[0m\u001b[0;34m]\u001b[0m\u001b[0;34m)\u001b[0m\u001b[0;34m\u001b[0m\u001b[0;34m\u001b[0m\u001b[0m\n\u001b[1;32m      7\u001b[0m \u001b[0;34m\u001b[0m\u001b[0m\n",
      "\u001b[0;31mValueError\u001b[0m: invalid literal for int() with base 10: '-f'"
     ]
    }
   ],
   "source": [
    "#parameter\n",
    "\n",
    "\n",
    "\n",
    "K=int(sys.argv[1])\n",
    "M=int(sys.argv[2])\n",
    "\n",
    "n_anchor = int(sys.argv[3])\n",
    "n_sensor = int(sys.argv[4])\n",
    "\n",
    "\n",
    "print('K: '+str(K))\n",
    "print('M: '+str(M))\n",
    "print('n_anchor: '+str(n_anchor))\n",
    "print('n_sensor: '+str(n_sensor))"
   ]
  },
  {
   "cell_type": "code",
   "execution_count": 7,
   "metadata": {},
   "outputs": [
    {
     "output_type": "error",
     "ename": "NameError",
     "evalue": "name 'n_anchor' is not defined",
     "traceback": [
      "\u001b[0;31m---------------------------------------------------------------------------\u001b[0m",
      "\u001b[0;31mNameError\u001b[0m                                 Traceback (most recent call last)",
      "\u001b[0;32m<ipython-input-7-17aef4d0db1f>\u001b[0m in \u001b[0;36m<module>\u001b[0;34m\u001b[0m\n\u001b[1;32m      1\u001b[0m \u001b[0mold_data\u001b[0m \u001b[0;34m=\u001b[0m \u001b[0;32mTrue\u001b[0m\u001b[0;34m\u001b[0m\u001b[0;34m\u001b[0m\u001b[0m\n\u001b[1;32m      2\u001b[0m \u001b[0;32mif\u001b[0m \u001b[0mold_data\u001b[0m\u001b[0;34m:\u001b[0m\u001b[0;34m\u001b[0m\u001b[0;34m\u001b[0m\u001b[0m\n\u001b[0;32m----> 3\u001b[0;31m     \u001b[0manchors\u001b[0m \u001b[0;34m=\u001b[0m \u001b[0mpd\u001b[0m\u001b[0;34m.\u001b[0m\u001b[0mread_excel\u001b[0m\u001b[0;34m(\u001b[0m\u001b[0;34m'a0.xls'\u001b[0m\u001b[0;34m,\u001b[0m \u001b[0musecols\u001b[0m \u001b[0;34m=\u001b[0m \u001b[0mrange\u001b[0m\u001b[0;34m(\u001b[0m\u001b[0;36m26\u001b[0m\u001b[0;34m)\u001b[0m\u001b[0;34m,\u001b[0m \u001b[0mheader\u001b[0m\u001b[0;34m=\u001b[0m\u001b[0;36m1\u001b[0m\u001b[0;34m,\u001b[0m \u001b[0mnrows\u001b[0m\u001b[0;34m=\u001b[0m\u001b[0mn_anchor\u001b[0m\u001b[0;34m)\u001b[0m\u001b[0;34m\u001b[0m\u001b[0;34m\u001b[0m\u001b[0m\n\u001b[0m\u001b[1;32m      4\u001b[0m     \u001b[0msensors\u001b[0m \u001b[0;34m=\u001b[0m \u001b[0mpd\u001b[0m\u001b[0;34m.\u001b[0m\u001b[0mread_excel\u001b[0m\u001b[0;34m(\u001b[0m\u001b[0;34m'y0.xls'\u001b[0m\u001b[0;34m,\u001b[0m \u001b[0musecols\u001b[0m \u001b[0;34m=\u001b[0m \u001b[0mrange\u001b[0m\u001b[0;34m(\u001b[0m\u001b[0;36m26\u001b[0m\u001b[0;34m)\u001b[0m\u001b[0;34m,\u001b[0m \u001b[0mheader\u001b[0m\u001b[0;34m=\u001b[0m\u001b[0;36m1\u001b[0m\u001b[0;34m,\u001b[0m \u001b[0mnrows\u001b[0m\u001b[0;34m=\u001b[0m\u001b[0mn_sensor\u001b[0m\u001b[0;34m)\u001b[0m\u001b[0;34m\u001b[0m\u001b[0;34m\u001b[0m\u001b[0m\n\u001b[1;32m      5\u001b[0m     \u001b[0mdist\u001b[0m \u001b[0;34m=\u001b[0m \u001b[0mpd\u001b[0m\u001b[0;34m.\u001b[0m\u001b[0mread_excel\u001b[0m\u001b[0;34m(\u001b[0m\u001b[0;34m'dist0.xls'\u001b[0m\u001b[0;34m,\u001b[0m \u001b[0musecols\u001b[0m \u001b[0;34m=\u001b[0m \u001b[0mrange\u001b[0m\u001b[0;34m(\u001b[0m\u001b[0mn_sensor\u001b[0m\u001b[0;34m)\u001b[0m\u001b[0;34m,\u001b[0m \u001b[0mheader\u001b[0m\u001b[0;34m=\u001b[0m\u001b[0;36m1\u001b[0m\u001b[0;34m,\u001b[0m \u001b[0mnrows\u001b[0m\u001b[0;34m=\u001b[0m\u001b[0mn_anchor\u001b[0m\u001b[0;34m)\u001b[0m\u001b[0;34m\u001b[0m\u001b[0;34m\u001b[0m\u001b[0m\n",
      "\u001b[0;31mNameError\u001b[0m: name 'n_anchor' is not defined"
     ]
    }
   ],
   "source": [
    "old_data = True\n",
    "if old_data:\n",
    "    anchors = pd.read_excel('old_data/a0.xls', usecols = range(26), header=None, nrows=n_anchor) \n",
    "    sensors = pd.read_excel('old_data/y0.xls', usecols = range(26), header=None, nrows=n_sensor)\n",
    "    dist = pd.read_excel('old_data/dist0.xls', usecols = range(n_sensor), header=None, nrows=n_anchor)\n",
    "    sensor = sensors.values\n",
    "    anchor = anchors.values\n",
    "    distance = dist.values\n",
    "else:\n",
    "    anchors = pd.read_excel('a0.xls', usecols = range(26), header=1, nrows=n_anchor) \n",
    "    sensors = pd.read_excel('y0.xls', usecols = range(26), header=1, nrows=n_sensor)\n",
    "    dist = pd.read_excel('dist0.xls', usecols = range(n_sensor), header=1, nrows=n_anchor)\n",
    "    sensor = sensors.values\n",
    "    anchor = anchors.values\n",
    "    distance = dist.values"
   ]
  },
  {
   "cell_type": "code",
   "execution_count": 65,
   "metadata": {},
   "outputs": [],
   "source": [
    "J = len(sensor[:,1])\n",
    "I = len(anchor[:,1])"
   ]
  },
  {
   "cell_type": "markdown",
   "metadata": {},
   "source": [
    "add variable $\\hat{y_{j}}$"
   ]
  },
  {
   "cell_type": "code",
   "execution_count": 66,
   "metadata": {},
   "outputs": [],
   "source": [
    "for j in range(J):\n",
    "    exec('hat_y_{} = cp.Variable(2)'.format(j))\n",
    "    "
   ]
  },
  {
   "cell_type": "markdown",
   "metadata": {},
   "source": [
    "add variable $\\lambda_{ij}$"
   ]
  },
  {
   "cell_type": "code",
   "execution_count": 67,
   "metadata": {},
   "outputs": [],
   "source": [
    "for i in range(I):\n",
    "    for j in range(J):\n",
    "        exec('lam_{}_{} = cp.Variable(2)'.format(i, j))\n",
    "        \n",
    "# add variable v\n",
    "v = cp.Variable((I,J))"
   ]
  },
  {
   "cell_type": "code",
   "execution_count": 68,
   "metadata": {},
   "outputs": [],
   "source": [
    "x = cp.Variable(I, boolean=True)\n",
    "mu = cp.Variable((I,J))\n",
    "T = cp.Variable((I,J))"
   ]
  },
  {
   "cell_type": "code",
   "execution_count": 69,
   "metadata": {},
   "outputs": [],
   "source": [
    "constraints = []\n",
    "\n",
    "constraints.append(cp.sum(x) == K)\n",
    "\n",
    "for i in range(I):\n",
    "    for j in range(J):\n",
    "        constraints.append(cp.norm(names.get('lam_{}_{}'.format(i,j))) <= mu[i][j])\n",
    "        \n",
    "constraints.append(v >= 0)\n",
    "\n",
    "for i in range(I):\n",
    "    for j in range(J):\n",
    "        constraints.append(1 - distance[i][j]*mu[i][j] - v[i][j] == 0)\n",
    "\n",
    "for j in range(J):\n",
    "    sum_i_lam_ij = 0\n",
    "    for i in range(I):\n",
    "        sum_i_lam_ij += names.get('lam_{}_{}'.format(i,j))\n",
    "    constraints.append(sum_i_lam_ij == 0)\n",
    "    \n",
    "\n",
    "for i in range(I):\n",
    "    for j in range(J):\n",
    "        constraints.append(cp.norm(anchor[i,:] - names.get('hat_y_{}'.format(j))) <=\\\n",
    "            distance[i][j]*(1 + T[i][j]) + M*(1-x[i]))\n",
    "\n",
    "\n",
    "rhs = 0\n",
    "for i in range(I):\n",
    "    for j in range(J):\n",
    "        rhs -= anchor[i,:]*names.get('lam_{}_{}'.format(i,j)) + distance[i][j]*mu[i][j]\n",
    "constraints.append(cp.sum(T) == rhs)\n",
    "        \n",
    "for i in range(I):\n",
    "    for j in range(J):\n",
    "        constraints.append(mu[i][j] <= 100000*x[i])\n",
    "        \n",
    "constraints.append(T >= 0)\n",
    "        \n",
    "        \n",
    "obj_exp = 0\n",
    "for j in range(J):\n",
    "    obj_exp += cp.norm(names.get('hat_y_' + str(j)) - sensor[j,:])\n",
    "    \n",
    "\n"
   ]
  },
  {
   "cell_type": "code",
   "execution_count": 71,
   "metadata": {},
   "outputs": [
    {
     "name": "stdout",
     "output_type": "stream",
     "text": [
      "\n",
      "\n",
      "Problem\n",
      "  Name                   :                 \n",
      "  Objective sense        : min             \n",
      "  Type                   : CONIC (conic optimization problem)\n",
      "  Constraints            : 2452            \n",
      "  Cones                  : 410             \n",
      "  Scalar variables       : 2680            \n",
      "  Matrix variables       : 0               \n",
      "  Integer variables      : 20              \n",
      "\n",
      "Optimizer started.\n",
      "Mixed integer optimizer started.\n",
      "Threads used: 4\n",
      "Presolve started.\n",
      "Presolve terminated. Time = 0.07\n",
      "Presolved problem: 1650 variables, 1022 constraints, 3420 non-zeros\n",
      "Presolved problem: 0 general integer, 20 binary, 1630 continuous\n",
      "Clique table size: 0\n",
      "BRANCHES RELAXS   ACT_NDS  DEPTH    BEST_INT_OBJ         BEST_RELAX_OBJ       REL_GAP(%)  TIME  \n",
      "0        1        1        0        NA                   4.8136228712e-11     NA          0.4   \n",
      "0        1        1        0        4.4650250918e-01     4.8136228712e-11     100.00      1.2   \n",
      "Cut generation started.\n",
      "0        1        1        0        4.4650250918e-01     4.5599492681e-11     100.00      2.5   \n",
      "Cut generation terminated. Time = 0.00\n",
      "8        12       5        4        4.4650250918e-01     3.5199124434e-08     100.00      3.1   \n",
      "20       24       5        10       4.4650250918e-01     3.5199124434e-08     100.00      3.9   \n",
      "30       34       5        15       4.4641407047e-01     5.1995268377e-08     100.00      4.9   \n",
      "36       40       5        18       4.4467712104e-01     5.1995268377e-08     100.00      5.4   \n",
      "38       42       3        19       4.3987557595e-01     5.1995268377e-08     100.00      5.6   \n",
      "50       54       5        3        4.3987557595e-01     5.9309877525e-08     100.00      6.8   \n",
      "62       66       11       11       4.3987557595e-01     5.9309877525e-08     100.00      7.4   \n",
      "77       81       16       16       4.3987557595e-01     5.9309877525e-08     100.00      8.3   \n",
      "89       93       16       19       4.3987557595e-01     5.9309877525e-08     100.00      9.0   \n",
      "102      106      11       15       4.3987557595e-01     5.9309877525e-08     100.00      9.9   \n",
      "110      114      7        4        4.3121987136e-01     5.9309877525e-08     100.00      10.4  \n",
      "124      128      13       8        4.3121987136e-01     5.9309877525e-08     100.00      11.1  \n",
      "151      155      28       13       4.3121987136e-01     5.9309877525e-08     100.00      12.4  \n",
      "179      183      30       10       4.1221644144e-01     5.9309877525e-08     100.00      13.8  \n",
      "207      211      36       15       4.1221644144e-01     1.4317760532e-07     100.00      15.4  \n",
      "243      247      38       18       4.1221644144e-01     1.4317760532e-07     100.00      17.2  \n",
      "279      283      30       15       4.1221644144e-01     1.4317760532e-07     100.00      19.7  \n",
      "307      311      32       16       4.1221644144e-01     1.4317760532e-07     100.00      21.3  \n",
      "337      341      16       8        4.1221644144e-01     1.4317760532e-07     100.00      23.2  \n",
      "350      354      9        10       4.1221644144e-01     1.4317760532e-07     100.00      24.5  \n",
      "362      366      3        10       4.1221644144e-01     2.2359229308e-07     100.00      25.8  \n",
      "374      378      3        16       4.1221644144e-01     1.7517199119e-01     57.50       27.6  \n",
      "An optimal solution satisfying the relative gap tolerance of 1.00e-02(%) has been located.\n",
      "The relative gap is 0.00e+00(%).\n",
      "An optimal solution satisfying the absolute gap tolerance of 0.00e+00 has been located.\n",
      "The absolute gap is 0.00e+00.\n",
      "\n",
      "Objective of best integer solution : 4.122164414397e-01      \n",
      "Best objective bound               : 4.122164414397e-01      \n",
      "Construct solution objective       : Not employed\n",
      "User objective cut value           : Not employed\n",
      "Number of cuts generated           : 0\n",
      "Number of branches                 : 379\n",
      "Number of relaxations solved       : 383\n",
      "Number of interior point iterations: 15886\n",
      "Number of simplex iterations       : 0\n",
      "Time spend presolving the root     : 0.07\n",
      "Time spend optimizing the root     : 0.19\n",
      "Mixed integer optimizer terminated. Time: 28.44\n",
      "\n",
      "Optimizer terminated. Time: 28.61   \n",
      "\n",
      "\n",
      "Integer solution solution summary\n",
      "  Problem status  : PRIMAL_FEASIBLE\n",
      "  Solution status : INTEGER_OPTIMAL\n",
      "  Primal.  obj: 4.1221644144e-01    nrm: 1e+05    Viol.  con: 1e-06    var: 0e+00    cones: 0e+00    itg: 0e+00  \n"
     ]
    }
   ],
   "source": [
    "t_start = round(time.time())\n",
    "obj = cp.Minimize(obj_exp)\n",
    "prob = cp.Problem(obj, constraints)\n",
    "prob.solve(solver=cp.MOSEK, verbose=True)\n",
    "t_end = round(time.time())"
   ]
  },
  {
   "cell_type": "code",
   "execution_count": 167,
   "metadata": {},
   "outputs": [],
   "source": [
    "violation = max([np.max(x.violation()) for x in constraints])\n",
    "print('max constraint violation: '+str(max([np.max(x.violation()) for x in constraints])))"
   ]
  },
  {
   "cell_type": "code",
   "execution_count": 169,
   "metadata": {},
   "outputs": [],
   "source": [
    "np.savetxt(X=x.value, fname='result/t{} x result_K{} M{} n_anchor{} n_sensor{} duration{} violation{}.txt'.format(t_start, K, M, n_anchor, n_sensor, t_end - t_start, violation))\n",
    "\n",
    "hat_y_value = np.zeros((J,2))\n",
    "for j in range(J):\n",
    "    hat_y_value[j,:] = names.get('hat_y_{}'.format(j)).value\n",
    "\n",
    "np.savetxt(X=hat_y_value, fname='result/t{} hat_y result_K{} M{} n_anchor{} n_sensor{} duration{} violation{}.txt'.format(t_start, K, M, n_anchor, n_sensor, t_end - t_start, violation))"
   ]
  },
  {
   "cell_type": "code",
   "execution_count": 80,
   "metadata": {},
   "outputs": [],
   "source": [
    "\n",
    "plt.figure(figsize=(10,10))\n",
    "plt.scatter(x=anchor[:,0], y=anchor[:,1])\n",
    "plt.scatter(x=sensor[:,0], y=sensor[:,1],c='k',s=150)\n",
    "\n",
    "for i in range(I):\n",
    "    for j in range(J):\n",
    "        plt.scatter(x=names.get('hat_y_{}'.format(j)).value[0],\n",
    "                    y=names.get('hat_y_{}'.format(j)).value[1],c='r')\n",
    "plt.savefig('result/t{} figure result_K{} M{} n_anchor{} n_sensor{} duration{} violation{}.pdf'.format(t_start, K, M, n_anchor, n_sensor, t_end - t_start, violation))\n",
    "\n"
   ]
  },
  {
   "cell_type": "code",
   "execution_count": null,
   "metadata": {},
   "outputs": [],
   "source": [
    "# assert np.sum(x.value) == K\n",
    "\n",
    "# for i in range(I):\n",
    "#     for j in range(J):\n",
    "#         assert np.linalg.norm(names.get('lam_{}_{}'.format(i,j)).value) - mu.value[i][j] <= 1e-6\n",
    "        \n",
    "        \n",
    "# assert (v.value >= 0).all\n",
    "\n",
    "# for i in range(I):\n",
    "#     for j in range(J):\n",
    "#         assert abs(1 - distance[i][j]*mu.value[i][j] - v.value[i][j]) < 10e-6\n",
    "        \n",
    "# for j in range(J):\n",
    "#     sum_i_lam_ij_value = 0\n",
    "#     for i in range(I):\n",
    "#         sum_i_lam_ij_value += names.get('lam_{}_{}'.format(i,j)).value\n",
    "#     assert (sum_i_lam_ij_value == 0).all\n",
    "    \n",
    "# for i in range(I):\n",
    "#     for j in range(J):\n",
    "#         assert np.linalg.norm(anchor[i,:] - names.get('hat_y_{}'.format(j)).value) <=\\\n",
    "#             distance[i][j]*(1+T.value[i][j]) + M*(1-x.value[i]) + 1e-6\n",
    "\n",
    "        \n",
    "# for i in range(I):\n",
    "#     for j in range(J):\n",
    "#         assert mu.value[i][j] <= 100000*x.value[i] + 1e-7\n",
    "        \n",
    "\n",
    "# rhs_value = 0\n",
    "# for i in range(I):\n",
    "#     for j in range(J):\n",
    "#         rhs_value -= anchor[i,:].dot(names.get('lam_{}_{}'.format(i,j)).value) + distance[i][j]*mu.value[i][j]\n",
    "\n",
    "# assert abs(np.sum(T.value) - rhs_value) < 1e-6\n",
    "        "
   ]
  }
 ],
 "metadata": {
  "kernelspec": {
   "display_name": "Python 3",
   "language": "python",
   "name": "python3"
  },
  "language_info": {
   "codemirror_mode": {
    "name": "ipython",
    "version": 3
   },
   "file_extension": ".py",
   "mimetype": "text/x-python",
   "name": "python",
   "nbconvert_exporter": "python",
   "pygments_lexer": "ipython3",
   "version": "3.7.7-final"
  }
 },
 "nbformat": 4,
 "nbformat_minor": 4
}