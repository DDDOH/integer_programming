{
 "cells": [
  {
   "cell_type": "code",
   "execution_count": null,
   "metadata": {},
   "outputs": [],
   "source": [
    "import pandas as pd\n",
    "import numpy as np\n",
    "import math\n",
    "import mosek\n",
    "import cvxpy as cp\n",
    "\n",
    "names = locals()"
   ]
  },
  {
   "cell_type": "code",
   "execution_count": null,
   "metadata": {},
   "outputs": [],
   "source": [
    "#parameter\n",
    "K=10\n",
    "M=100"
   ]
  },
  {
   "cell_type": "code",
   "execution_count": null,
   "metadata": {},
   "outputs": [],
   "source": [
    "anchors = pd.read_excel('a0.xls', usecols = range(26), header=0, nrows=26) \n",
    "sensors = pd.read_excel('y0.xls', usecols = range(26), header=0, nrows=26)\n",
    "dist = pd.read_excel('dist0.xls', usecols = range(26),nrows=26)\n",
    "sensor = sensors.values\n",
    "anchor = anchors.values\n",
    "distance = dist.values"
   ]
  },
  {
   "cell_type": "code",
   "execution_count": null,
   "metadata": {},
   "outputs": [],
   "source": [
    "J = len(sensor[:,1])\n",
    "I = len(anchor[:,1])"
   ]
  },
  {
   "cell_type": "markdown",
   "metadata": {},
   "source": [
    "add variable $\\hat{y_{j}}$"
   ]
  },
  {
   "cell_type": "code",
   "execution_count": 5,
   "metadata": {},
   "outputs": [],
   "source": [
    "for j in range(J):\n",
    "    exec('hat_y_{} = cp.Variable(2)'.format(j))\n",
    "    "
   ]
  },
  {
   "cell_type": "markdown",
   "metadata": {},
   "source": [
    "add variable $\\lambda_{ij}$"
   ]
  },
  {
   "cell_type": "code",
   "execution_count": 6,
   "metadata": {},
   "outputs": [],
   "source": [
    "for i in range(I):\n",
    "    for j in range(J):\n",
    "        exec('lam_{}_{} = cp.Variable(2)'.format(i, j))\n",
    "        \n",
    "# add variable v\n",
    "v = cp.Variable((I,J))"
   ]
  },
  {
   "cell_type": "code",
   "execution_count": 7,
   "metadata": {},
   "outputs": [],
   "source": [
    "x = cp.Variable(I, boolean=True)\n",
    "mu = cp.Variable((I,J))\n",
    "T = cp.Variable((I,J))"
   ]
  },
  {
   "cell_type": "code",
   "execution_count": 8,
   "metadata": {},
   "outputs": [],
   "source": [
    "constraints = []\n",
    "\n",
    "constraints.append(cp.sum(x) == K)\n",
    "\n",
    "for i in range(I):\n",
    "    for j in range(J):\n",
    "        constraints.append(cp.norm(names.get('lam_{}_{}'.format(i,j))) <= mu[i][j])\n",
    "        \n",
    "constraints.append(v >= 0)\n",
    "\n",
    "for i in range(I):\n",
    "    for j in range(J):\n",
    "        constraints.append(1 - distance[i][j]*mu[i][j] - v[i][j] == 0)\n",
    "\n",
    "for j in range(J):\n",
    "    sum_i_lam_ij = 0\n",
    "    for i in range(I):\n",
    "        sum_i_lam_ij += names.get('lam_{}_{}'.format(i,j))\n",
    "    constraints.append(sum_i_lam_ij == 0)\n",
    "    \n",
    "\n",
    "for i in range(I):\n",
    "    for j in range(J):\n",
    "#         constraints.append(cp.norm(anchor[i,:] - names.get('hat_y_{}'.format(j))) <=\\\n",
    "#             distance[i][j]*(1 + T[i][j]) + M*(1-x[i]))\n",
    "\n",
    "        constraints.append(np.linalg.norm(anchor[i,:] - sensor[j,:]) <=\\\n",
    "            distance[i][j]*(1 + T[i][j]) + M*(1-x[i]))\n",
    "\n",
    "rhs = 0\n",
    "for i in range(I):\n",
    "    for j in range(J):\n",
    "        rhs -= anchor[i,:]*names.get('lam_{}_{}'.format(i,j)) + distance[i][j]*mu[i][j]\n",
    "constraints.append(cp.sum(T) == rhs)\n",
    "        \n",
    "obj_exp = 0\n",
    "for j in range(J):\n",
    "    obj_exp += cp.norm(names.get('hat_y_' + str(j)) - sensor[j,:])\n",
    "    \n",
    "    "
   ]
  },
  {
   "cell_type": "code",
   "execution_count": 9,
   "metadata": {},
   "outputs": [
    {
     "name": "stdout",
     "output_type": "stream",
     "text": [
      "\n",
      "\n",
      "Problem\n",
      "  Name                   :                 \n",
      "  Objective sense        : min             \n",
      "  Type                   : CONIC (conic optimization problem)\n",
      "  Constraints            : 4502            \n",
      "  Cones                  : 650             \n",
      "  Scalar variables       : 5800            \n",
      "  Matrix variables       : 0               \n",
      "  Integer variables      : 25              \n",
      "\n",
      "Optimizer started.\n",
      "Mixed integer optimizer started.\n",
      "Threads used: 4\n",
      "Presolve started.\n",
      "Presolve terminated. Time = 0.04\n",
      "Presolved problem: 3225 variables, 1302 constraints, 6275 non-zeros\n",
      "Presolved problem: 0 general integer, 25 binary, 3200 continuous\n",
      "Clique table size: 0\n",
      "BRANCHES RELAXS   ACT_NDS  DEPTH    BEST_INT_OBJ         BEST_RELAX_OBJ       REL_GAP(%)  TIME  \n",
      "0        1        1        0        NA                   0.0000000000e+00     NA          0.2   \n",
      "0        1        1        0        0.0000000000e+00     0.0000000000e+00     0.00e+00    0.2   \n",
      "An optimal solution satisfying the relative gap tolerance of 1.00e-02(%) has been located.\n",
      "The relative gap is 0.00e+00(%).\n",
      "An optimal solution satisfying the absolute gap tolerance of 0.00e+00 has been located.\n",
      "The absolute gap is 0.00e+00.\n",
      "\n",
      "Objective of best integer solution : 0.000000000000e+00      \n",
      "Best objective bound               : 0.000000000000e+00      \n",
      "Construct solution objective       : Not employed\n",
      "User objective cut value           : Not employed\n",
      "Number of cuts generated           : 0\n",
      "Number of branches                 : 0\n",
      "Number of relaxations solved       : 1\n",
      "Number of interior point iterations: 5\n",
      "Number of simplex iterations       : 0\n",
      "Time spend presolving the root     : 0.04\n",
      "Time spend optimizing the root     : 0.03\n",
      "Mixed integer optimizer terminated. Time: 0.21\n",
      "\n",
      "Optimizer terminated. Time: 0.26    \n",
      "\n",
      "\n",
      "Integer solution solution summary\n",
      "  Problem status  : PRIMAL_FEASIBLE\n",
      "  Solution status : INTEGER_OPTIMAL\n",
      "  Primal.  obj: 0.0000000000e+00    nrm: 5e+04    Viol.  con: 6e-12    var: 0e+00    cones: 0e+00    itg: 0e+00  \n"
     ]
    },
    {
     "data": {
      "text/plain": [
       "0.0"
      ]
     },
     "execution_count": 9,
     "metadata": {},
     "output_type": "execute_result"
    }
   ],
   "source": [
    "obj = cp.Minimize(obj_exp)\n",
    "prob = cp.Problem(obj, constraints)\n",
    "prob.solve(solver=cp.MOSEK, verbose=True)"
   ]
  },
  {
   "cell_type": "code",
   "execution_count": 10,
   "metadata": {},
   "outputs": [],
   "source": [
    "assert np.sum(x.value) == K\n",
    "\n",
    "for i in range(I):\n",
    "    for j in range(J):\n",
    "        assert np.linalg.norm(names.get('lam_{}_{}'.format(i,j)).value) <= mu.value[i][j]\n",
    "        \n",
    "        \n",
    "assert (v.value >= 0).all\n",
    "\n",
    "for i in range(I):\n",
    "    for j in range(J):\n",
    "        assert abs(1 - distance[i][j]*mu.value[i][j] - v.value[i][j]) < 10e-10\n",
    "        \n",
    "for j in range(J):\n",
    "    sum_i_lam_ij_value = 0\n",
    "    for i in range(I):\n",
    "        sum_i_lam_ij_value += names.get('lam_{}_{}'.format(i,j)).value\n",
    "    assert (sum_i_lam_ij_value == 0).all\n",
    "    \n",
    "for i in range(I):\n",
    "    for j in range(J):\n",
    "#         assert np.linalg.norm(anchor[i,:] - names.get('hat_y_{}'.format(j)).value) <=\\\n",
    "#             distance[i][j]*(1+T.value[i][j]) + M*(1-x.value[i]) + 1e-10\n",
    "        \n",
    "        assert np.linalg.norm(anchor[i,:] - sensor[j,:]) <=\\\n",
    "            distance[i][j]*(1+T.value[i][j]) + M*(1-x.value[i]) + 1e-10\n",
    "        \n",
    "        \n",
    "rhs_value = 0\n",
    "for i in range(I):\n",
    "    for j in range(J):\n",
    "        rhs_value -= anchor[i,:].dot(names.get('lam_{}_{}'.format(i,j)).value) + distance[i][j]*mu.value[i][j]\n",
    "\n",
    "assert abs(np.sum(T.value) - rhs_value) < 1e-8\n",
    "        "
   ]
  },
  {
   "cell_type": "code",
   "execution_count": 11,
   "metadata": {},
   "outputs": [
    {
     "data": {
      "image/png": "[encoded data removed]",
      "text/plain": [
       "<Figure size 720x720 with 1 Axes>"
      ]
     },
     "metadata": {
      "needs_background": "light"
     },
     "output_type": "display_data"
    }
   ],
   "source": [
    "import matplotlib.pyplot as plt\n",
    "plt.figure(figsize=(10,10))\n",
    "plt.scatter(x=anchor[:,0], y=anchor[:,1])\n",
    "plt.scatter(x=sensor[:,0], y=sensor[:,1],c='k',s=150)\n",
    "\n",
    "for i in range(I):\n",
    "    for j in range(J):\n",
    "        plt.scatter(x=names.get('hat_y_{}'.format(j)).value[0],\n",
    "                    y=names.get('hat_y_{}'.format(j)).value[1],c='r')"
   ]
  },
  {
   "cell_type": "code",
   "execution_count": null,
   "metadata": {},
   "outputs": [],
   "source": []
  }
 ],
 "metadata": {
  "kernelspec": {
   "display_name": "Python 3",
   "language": "python",
   "name": "python3"
  },
  "language_info": {
   "codemirror_mode": {
    "name": "ipython",
    "version": 3
   },
   "file_extension": ".py",
   "mimetype": "text/x-python",
   "name": "python",
   "nbconvert_exporter": "python",
   "pygments_lexer": "ipython3",
   "version": "3.7.7"
  }
 },
 "nbformat": 4,
 "nbformat_minor": 4
}
